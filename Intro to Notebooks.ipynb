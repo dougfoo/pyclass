{
 "cells": [
  {
   "cell_type": "markdown",
   "metadata": {},
   "source": [
    "# Hello Python World\n"
   ]
  },
  {
   "cell_type": "markdown",
   "metadata": {},
   "source": [
    "Next step is code, first lesson the builtin \"print(s)\" function"
   ]
  },
  {
   "cell_type": "code",
   "execution_count": 14,
   "metadata": {},
   "outputs": [
    {
     "name": "stdout",
     "output_type": "stream",
     "text": [
      "hello world\n"
     ]
    }
   ],
   "source": [
    "# code section\n",
    "print ('hello world')\n"
   ]
  },
  {
   "cell_type": "markdown",
   "metadata": {},
   "source": [
    "# Basic math and print operations"
   ]
  },
  {
   "cell_type": "code",
   "execution_count": 15,
   "metadata": {},
   "outputs": [
    {
     "name": "stdout",
     "output_type": "stream",
     "text": [
      "15\n",
      "100\n"
     ]
    },
    {
     "ename": "ZeroDivisionError",
     "evalue": "division by zero",
     "output_type": "error",
     "traceback": [
      "\u001b[1;31m---------------------------------------------------------------------------\u001b[0m",
      "\u001b[1;31mZeroDivisionError\u001b[0m                         Traceback (most recent call last)",
      "\u001b[1;32m<ipython-input-15-2cf34550a352>\u001b[0m in \u001b[0;36m<module>\u001b[1;34m()\u001b[0m\n\u001b[0;32m      2\u001b[0m \u001b[0mprint\u001b[0m \u001b[1;33m(\u001b[0m\u001b[1;36m10\u001b[0m \u001b[1;33m*\u001b[0m \u001b[1;36m10\u001b[0m\u001b[1;33m)\u001b[0m\u001b[1;33m\u001b[0m\u001b[0m\n\u001b[0;32m      3\u001b[0m \u001b[1;33m\u001b[0m\u001b[0m\n\u001b[1;32m----> 4\u001b[1;33m \u001b[1;36m100\u001b[0m\u001b[1;33m/\u001b[0m\u001b[1;36m0\u001b[0m\u001b[1;33m\u001b[0m\u001b[0m\n\u001b[0m",
      "\u001b[1;31mZeroDivisionError\u001b[0m: division by zero"
     ]
    }
   ],
   "source": [
    "print (5 + 10)\n",
    "print (10 * 10)\n",
    "\n",
    "100/0\n"
   ]
  },
  {
   "cell_type": "markdown",
   "metadata": {},
   "source": [
    "# Basic Types - String, Int, Arrays (Lists)"
   ]
  },
  {
   "cell_type": "markdown",
   "metadata": {},
   "source": [
    "There are many data types (like dates, strings, integer and decimal.. etc etc)"
   ]
  },
  {
   "cell_type": "code",
   "execution_count": 62,
   "metadata": {},
   "outputs": [
    {
     "name": "stdout",
     "output_type": "stream",
     "text": [
      "[10, 'Doug']\n",
      "[1, 2, 3, 4, 5]\n"
     ]
    }
   ],
   "source": [
    "# int, string, array example\n",
    "i = 10\n",
    "s = \"Doug\"\n",
    "a = [i,s]\n",
    "\n",
    "print (a)\n",
    "\n",
    "b = [1,2,3,4,5]\n",
    "print (b)\n"
   ]
  },
  {
   "cell_type": "markdown",
   "metadata": {},
   "source": [
    "# Functions and Libraries"
   ]
  },
  {
   "cell_type": "markdown",
   "metadata": {},
   "source": [
    "Sometimes you want to write a function and re-use it.  "
   ]
  },
  {
   "cell_type": "code",
   "execution_count": 67,
   "metadata": {},
   "outputs": [
    {
     "name": "stdout",
     "output_type": "stream",
     "text": [
      "15\n"
     ]
    },
    {
     "ename": "TypeError",
     "evalue": "unsupported operand type(s) for +: 'int' and 'list'",
     "output_type": "error",
     "traceback": [
      "\u001b[1;31m---------------------------------------------------------------------------\u001b[0m",
      "\u001b[1;31mTypeError\u001b[0m                                 Traceback (most recent call last)",
      "\u001b[1;32m<ipython-input-67-fcbf35e13106>\u001b[0m in \u001b[0;36m<module>\u001b[1;34m()\u001b[0m\n\u001b[0;32m      6\u001b[0m \u001b[0mprint\u001b[0m \u001b[1;33m(\u001b[0m\u001b[0mmyadd\u001b[0m \u001b[1;33m(\u001b[0m\u001b[1;36m5\u001b[0m\u001b[1;33m,\u001b[0m\u001b[1;36m10\u001b[0m\u001b[1;33m)\u001b[0m\u001b[1;33m)\u001b[0m\u001b[1;33m\u001b[0m\u001b[0m\n\u001b[0;32m      7\u001b[0m \u001b[1;33m\u001b[0m\u001b[0m\n\u001b[1;32m----> 8\u001b[1;33m \u001b[0mprint\u001b[0m \u001b[1;33m(\u001b[0m\u001b[0mmyadd\u001b[0m \u001b[1;33m(\u001b[0m\u001b[1;36m5\u001b[0m\u001b[1;33m,\u001b[0m \u001b[0mb\u001b[0m\u001b[1;33m)\u001b[0m\u001b[1;33m)\u001b[0m\u001b[1;33m\u001b[0m\u001b[0m\n\u001b[0m",
      "\u001b[1;32m<ipython-input-67-fcbf35e13106>\u001b[0m in \u001b[0;36mmyadd\u001b[1;34m(a, b)\u001b[0m\n\u001b[0;32m      1\u001b[0m \u001b[1;31m# a function to add 2 numbers\u001b[0m\u001b[1;33m\u001b[0m\u001b[1;33m\u001b[0m\u001b[0m\n\u001b[0;32m      2\u001b[0m \u001b[1;32mdef\u001b[0m \u001b[0mmyadd\u001b[0m\u001b[1;33m(\u001b[0m\u001b[0ma\u001b[0m\u001b[1;33m,\u001b[0m \u001b[0mb\u001b[0m\u001b[1;33m)\u001b[0m\u001b[1;33m:\u001b[0m\u001b[1;33m\u001b[0m\u001b[0m\n\u001b[1;32m----> 3\u001b[1;33m     \u001b[0msum\u001b[0m \u001b[1;33m=\u001b[0m \u001b[0ma\u001b[0m\u001b[1;33m+\u001b[0m\u001b[0mb\u001b[0m\u001b[1;33m\u001b[0m\u001b[0m\n\u001b[0m\u001b[0;32m      4\u001b[0m     \u001b[1;32mreturn\u001b[0m \u001b[0msum\u001b[0m\u001b[1;33m\u001b[0m\u001b[0m\n\u001b[0;32m      5\u001b[0m \u001b[1;33m\u001b[0m\u001b[0m\n",
      "\u001b[1;31mTypeError\u001b[0m: unsupported operand type(s) for +: 'int' and 'list'"
     ]
    }
   ],
   "source": [
    "# a function to add 2 numbers\n",
    "def myadd(a, b):\n",
    "    sum = a+b\n",
    "    return sum\n",
    "    \n",
    "print (myadd (5,10))\n",
    "\n",
    "print (myadd (5, b))   # does it work?"
   ]
  },
  {
   "cell_type": "code",
   "execution_count": 65,
   "metadata": {},
   "outputs": [
    {
     "ename": "TypeError",
     "evalue": "must be str, not int",
     "output_type": "error",
     "traceback": [
      "\u001b[1;31m---------------------------------------------------------------------------\u001b[0m",
      "\u001b[1;31mTypeError\u001b[0m                                 Traceback (most recent call last)",
      "\u001b[1;32m<ipython-input-65-ad830484db3b>\u001b[0m in \u001b[0;36m<module>\u001b[1;34m()\u001b[0m\n\u001b[0;32m      1\u001b[0m \u001b[1;31m# what if a or b aren't #'s\u001b[0m\u001b[1;33m\u001b[0m\u001b[1;33m\u001b[0m\u001b[0m\n\u001b[1;32m----> 2\u001b[1;33m \u001b[0mmyadd\u001b[0m \u001b[1;33m(\u001b[0m\u001b[1;34m\"Doug\"\u001b[0m\u001b[1;33m,\u001b[0m \u001b[1;36m5\u001b[0m\u001b[1;33m)\u001b[0m\u001b[1;33m\u001b[0m\u001b[0m\n\u001b[0m",
      "\u001b[1;32m<ipython-input-64-974a76e0c52d>\u001b[0m in \u001b[0;36mmyadd\u001b[1;34m(a, b)\u001b[0m\n\u001b[0;32m      1\u001b[0m \u001b[1;31m# a function to add 2 numbers\u001b[0m\u001b[1;33m\u001b[0m\u001b[1;33m\u001b[0m\u001b[0m\n\u001b[0;32m      2\u001b[0m \u001b[1;32mdef\u001b[0m \u001b[0mmyadd\u001b[0m\u001b[1;33m(\u001b[0m\u001b[0ma\u001b[0m\u001b[1;33m,\u001b[0m \u001b[0mb\u001b[0m\u001b[1;33m)\u001b[0m\u001b[1;33m:\u001b[0m\u001b[1;33m\u001b[0m\u001b[0m\n\u001b[1;32m----> 3\u001b[1;33m     \u001b[0msum\u001b[0m \u001b[1;33m=\u001b[0m \u001b[0ma\u001b[0m\u001b[1;33m+\u001b[0m\u001b[0mb\u001b[0m\u001b[1;33m\u001b[0m\u001b[0m\n\u001b[0m\u001b[0;32m      4\u001b[0m     \u001b[1;32mreturn\u001b[0m \u001b[0msum\u001b[0m\u001b[1;33m\u001b[0m\u001b[0m\n\u001b[0;32m      5\u001b[0m \u001b[1;33m\u001b[0m\u001b[0m\n",
      "\u001b[1;31mTypeError\u001b[0m: must be str, not int"
     ]
    }
   ],
   "source": [
    "# what if a or b aren't #'s\n",
    "myadd (\"Doug\", 5)\n"
   ]
  },
  {
   "cell_type": "markdown",
   "metadata": {},
   "source": [
    "# Conditions !"
   ]
  },
  {
   "cell_type": "markdown",
   "metadata": {},
   "source": [
    "Sometimes you want to execute only IF something else (IF-THEN conditions)"
   ]
  },
  {
   "cell_type": "code",
   "execution_count": 44,
   "metadata": {},
   "outputs": [
    {
     "data": {
      "text/plain": [
       "5"
      ]
     },
     "execution_count": 44,
     "metadata": {},
     "output_type": "execute_result"
    }
   ],
   "source": [
    "def myadd(a, b):\n",
    "    if (type(a) == str):    # TEST if TRUE\n",
    "        return b            # RUN only if TRUE\n",
    "    else:\n",
    "        sum = a+b           # ELSE run here\n",
    "        return sum          # AND here\n",
    "\n",
    "myadd (\"Doug\", 5)"
   ]
  },
  {
   "cell_type": "markdown",
   "metadata": {},
   "source": [
    "# Loops"
   ]
  },
  {
   "cell_type": "markdown",
   "metadata": {},
   "source": [
    "Sometimes you want to repeat a few times"
   ]
  },
  {
   "cell_type": "code",
   "execution_count": 56,
   "metadata": {},
   "outputs": [
    {
     "name": "stdout",
     "output_type": "stream",
     "text": [
      "Doug\n",
      "Doug\n",
      "Doug\n",
      "-----\n",
      "Doug2Doug2\n",
      "Doug6Doug6Doug6Doug6Doug6Doug6\n",
      "Doug3\n",
      "Doug3\n",
      "Doug3\n"
     ]
    }
   ],
   "source": [
    "print (\"Doug\")\n",
    "print (\"Doug\")\n",
    "print (\"Doug\")\n",
    "print (\"-----\")\n",
    "\n",
    "def print_n_times(count, thetext):\n",
    "    if (count == 1):\n",
    "        print (thetext)\n",
    "    if (count == 2):\n",
    "        print (thetext*2)\n",
    "    if (count == 3):\n",
    "        print ((thetext+\"\\n\")*3)\n",
    "        \n",
    "def print_n_times2(count, thetext):\n",
    "    print (thetext*count)\n",
    "\n",
    "def print_n_times3(count, thetext):\n",
    "    for x in range(count):\n",
    "        print (thetext)\n",
    "\n",
    "    \n",
    "print_n_times(2,'Doug2')\n",
    "print_n_times2(6,'Doug6')\n",
    "print_n_times3(3,'Doug3')\n"
   ]
  },
  {
   "cell_type": "markdown",
   "metadata": {},
   "source": [
    "# Reading a file in Standard Python"
   ]
  },
  {
   "cell_type": "code",
   "execution_count": 25,
   "metadata": {},
   "outputs": [
    {
     "name": "stdout",
     "output_type": "stream",
     "text": [
      "<_io.TextIOWrapper name='US_Farmers_Markets.csv' mode='r' encoding='cp1252'>\n",
      "7821\n",
      "\"FMID\",\"Market_Name\",\"Address_Street_Number\",\"Address_City\",\"Address_State\",\"Address_Zip\",\"Latitude\",\"Longitude\",\"Spring_Day_A\",\"Spring_Freq_A\",\"Spring_Day_B\",\"Spring_Freq_B\",\"Summer_Day_A\",\"Summer_Freq_A\",\"Summer_Day_B\",\"Summer_Freq_B\",\"Fall_Day_A\",\"Fall_Freq_A\",\"Fall_Day_B\",\"Fall_Freq_B\",\"Accepts_CreditCards\",\"Items\",\"UpdateTime\"\n",
      "\n"
     ]
    }
   ],
   "source": [
    "myfile = \"US_Farmers_Markets.csv\"\n",
    "file_object  = open(myfile)\n",
    "print (file_object)\n",
    "lines = file_object.readlines()\n",
    "print (len(lines))\n",
    "print (lines[0])\n",
    "# do anything w/ the data... you would have to do some real coding\n"
   ]
  },
  {
   "cell_type": "markdown",
   "metadata": {},
   "source": [
    "# Reading a file using Pandas (Popular Data Library)\n"
   ]
  },
  {
   "cell_type": "code",
   "execution_count": 17,
   "metadata": {},
   "outputs": [
    {
     "name": "stdout",
     "output_type": "stream",
     "text": [
      "<class 'pandas.core.frame.DataFrame'>\n",
      "RangeIndex: 7820 entries, 0 to 7819\n",
      "Data columns (total 23 columns):\n",
      "FMID                     7820 non-null int64\n",
      "Market_Name              7820 non-null object\n",
      "Address_Street_Number    7820 non-null object\n",
      "Address_City             7820 non-null object\n",
      "Address_State            7820 non-null object\n",
      "Address_Zip              7820 non-null int64\n",
      "Latitude                 7820 non-null float64\n",
      "Longitude                7820 non-null float64\n",
      "Spring_Day_A             6219 non-null object\n",
      "Spring_Freq_A            6219 non-null object\n",
      "Spring_Day_B             588 non-null object\n",
      "Spring_Freq_B            588 non-null object\n",
      "Summer_Day_A             7423 non-null object\n",
      "Summer_Freq_A            7423 non-null object\n",
      "Summer_Day_B             2964 non-null object\n",
      "Summer_Freq_B            2964 non-null object\n",
      "Fall_Day_A               2343 non-null object\n",
      "Fall_Freq_A              2343 non-null object\n",
      "Fall_Day_B               29 non-null object\n",
      "Fall_Freq_B              29 non-null object\n",
      "Accepts_CreditCards      7820 non-null bool\n",
      "Items                    7820 non-null object\n",
      "UpdateTime               7820 non-null object\n",
      "dtypes: bool(1), float64(2), int64(2), object(18)\n",
      "memory usage: 1.3+ MB\n"
     ]
    },
    {
     "data": {
      "text/html": [
       "<div>\n",
       "<style scoped>\n",
       "    .dataframe tbody tr th:only-of-type {\n",
       "        vertical-align: middle;\n",
       "    }\n",
       "\n",
       "    .dataframe tbody tr th {\n",
       "        vertical-align: top;\n",
       "    }\n",
       "\n",
       "    .dataframe thead th {\n",
       "        text-align: right;\n",
       "    }\n",
       "</style>\n",
       "<table border=\"1\" class=\"dataframe\">\n",
       "  <thead>\n",
       "    <tr style=\"text-align: right;\">\n",
       "      <th></th>\n",
       "      <th>FMID</th>\n",
       "      <th>Market_Name</th>\n",
       "      <th>Address_Street_Number</th>\n",
       "      <th>Address_City</th>\n",
       "      <th>Address_State</th>\n",
       "      <th>Address_Zip</th>\n",
       "      <th>Latitude</th>\n",
       "      <th>Longitude</th>\n",
       "      <th>Spring_Day_A</th>\n",
       "      <th>Spring_Freq_A</th>\n",
       "      <th>...</th>\n",
       "      <th>Summer_Freq_A</th>\n",
       "      <th>Summer_Day_B</th>\n",
       "      <th>Summer_Freq_B</th>\n",
       "      <th>Fall_Day_A</th>\n",
       "      <th>Fall_Freq_A</th>\n",
       "      <th>Fall_Day_B</th>\n",
       "      <th>Fall_Freq_B</th>\n",
       "      <th>Accepts_CreditCards</th>\n",
       "      <th>Items</th>\n",
       "      <th>UpdateTime</th>\n",
       "    </tr>\n",
       "  </thead>\n",
       "  <tbody>\n",
       "    <tr>\n",
       "      <th>0</th>\n",
       "      <td>1000405134</td>\n",
       "      <td>Wisconsin Home Grown Farmers Market</td>\n",
       "      <td>8895 Woodland Drive</td>\n",
       "      <td>Fifield</td>\n",
       "      <td>WI</td>\n",
       "      <td>54524</td>\n",
       "      <td>45.869224</td>\n",
       "      <td>-90.419875</td>\n",
       "      <td>NaN</td>\n",
       "      <td>NaN</td>\n",
       "      <td>...</td>\n",
       "      <td>every other week</td>\n",
       "      <td>Wednesday</td>\n",
       "      <td>weekly</td>\n",
       "      <td>NaN</td>\n",
       "      <td>NaN</td>\n",
       "      <td>NaN</td>\n",
       "      <td>NaN</td>\n",
       "      <td>True</td>\n",
       "      <td>$ wine_alcohol:N|meat_eggs_seafood:N|prepared_...</td>\n",
       "      <td>2012/4/5</td>\n",
       "    </tr>\n",
       "    <tr>\n",
       "      <th>1</th>\n",
       "      <td>1000783412</td>\n",
       "      <td>Erwin Farmers Market</td>\n",
       "      <td>491 Front Street North</td>\n",
       "      <td>Erwin</td>\n",
       "      <td>TN</td>\n",
       "      <td>37650</td>\n",
       "      <td>36.140224</td>\n",
       "      <td>-82.408766</td>\n",
       "      <td>Wednesday</td>\n",
       "      <td>every other week</td>\n",
       "      <td>...</td>\n",
       "      <td>every other week</td>\n",
       "      <td>NaN</td>\n",
       "      <td>NaN</td>\n",
       "      <td>NaN</td>\n",
       "      <td>NaN</td>\n",
       "      <td>NaN</td>\n",
       "      <td>NaN</td>\n",
       "      <td>True</td>\n",
       "      <td>$ wine_alcohol:N|meat_eggs_seafood:N|prepared_...</td>\n",
       "      <td>2017 Aug 16</td>\n",
       "    </tr>\n",
       "    <tr>\n",
       "      <th>2</th>\n",
       "      <td>1000781373</td>\n",
       "      <td>Ridge Road Farmers Market</td>\n",
       "      <td>989 Ridge Road</td>\n",
       "      <td>Brooklyn</td>\n",
       "      <td>NY</td>\n",
       "      <td>11235</td>\n",
       "      <td>40.639930</td>\n",
       "      <td>-73.938999</td>\n",
       "      <td>NaN</td>\n",
       "      <td>NaN</td>\n",
       "      <td>...</td>\n",
       "      <td>weekly</td>\n",
       "      <td>NaN</td>\n",
       "      <td>NaN</td>\n",
       "      <td>Saturday</td>\n",
       "      <td>weekly</td>\n",
       "      <td>NaN</td>\n",
       "      <td>NaN</td>\n",
       "      <td>True</td>\n",
       "      <td>$ wine_alcohol:N|meat_eggs_seafood:N|prepared_...</td>\n",
       "      <td>2013/5/19</td>\n",
       "    </tr>\n",
       "    <tr>\n",
       "      <th>3</th>\n",
       "      <td>1000783371</td>\n",
       "      <td>Toano Farmers Market</td>\n",
       "      <td>104 Madison Avenue</td>\n",
       "      <td>Toano</td>\n",
       "      <td>VA</td>\n",
       "      <td>23168</td>\n",
       "      <td>37.370512</td>\n",
       "      <td>-76.798882</td>\n",
       "      <td>NaN</td>\n",
       "      <td>NaN</td>\n",
       "      <td>...</td>\n",
       "      <td>WEEKLY</td>\n",
       "      <td>NaN</td>\n",
       "      <td>NaN</td>\n",
       "      <td>NaN</td>\n",
       "      <td>NaN</td>\n",
       "      <td>NaN</td>\n",
       "      <td>NaN</td>\n",
       "      <td>True</td>\n",
       "      <td>$ wine_alcohol:N|meat_eggs_seafood:N|prepared_...</td>\n",
       "      <td>2015/2/22</td>\n",
       "    </tr>\n",
       "    <tr>\n",
       "      <th>4</th>\n",
       "      <td>1000159765</td>\n",
       "      <td>5th Street West Farmers Market</td>\n",
       "      <td>5913 5th Street West</td>\n",
       "      <td>Saint Louis</td>\n",
       "      <td>MO</td>\n",
       "      <td>63146</td>\n",
       "      <td>38.628971</td>\n",
       "      <td>-90.239076</td>\n",
       "      <td>Saturday</td>\n",
       "      <td>weekly</td>\n",
       "      <td>...</td>\n",
       "      <td>weekly</td>\n",
       "      <td>NaN</td>\n",
       "      <td>NaN</td>\n",
       "      <td>NaN</td>\n",
       "      <td>NaN</td>\n",
       "      <td>NaN</td>\n",
       "      <td>NaN</td>\n",
       "      <td>True</td>\n",
       "      <td>$ wine_alcohol:N|meat_eggs_seafood:N|prepared_...</td>\n",
       "      <td>2014 Jan 09</td>\n",
       "    </tr>\n",
       "  </tbody>\n",
       "</table>\n",
       "<p>5 rows × 23 columns</p>\n",
       "</div>"
      ],
      "text/plain": [
       "         FMID                          Market_Name   Address_Street_Number  \\\n",
       "0  1000405134  Wisconsin Home Grown Farmers Market     8895 Woodland Drive   \n",
       "1  1000783412                 Erwin Farmers Market  491 Front Street North   \n",
       "2  1000781373            Ridge Road Farmers Market          989 Ridge Road   \n",
       "3  1000783371                 Toano Farmers Market      104 Madison Avenue   \n",
       "4  1000159765       5th Street West Farmers Market    5913 5th Street West   \n",
       "\n",
       "  Address_City Address_State  Address_Zip   Latitude  Longitude Spring_Day_A  \\\n",
       "0      Fifield            WI        54524  45.869224 -90.419875          NaN   \n",
       "1        Erwin            TN        37650  36.140224 -82.408766    Wednesday   \n",
       "2     Brooklyn            NY        11235  40.639930 -73.938999          NaN   \n",
       "3        Toano            VA        23168  37.370512 -76.798882          NaN   \n",
       "4  Saint Louis            MO        63146  38.628971 -90.239076     Saturday   \n",
       "\n",
       "      Spring_Freq_A     ...          Summer_Freq_A Summer_Day_B Summer_Freq_B  \\\n",
       "0               NaN     ...       every other week    Wednesday        weekly   \n",
       "1  every other week     ...       every other week          NaN           NaN   \n",
       "2               NaN     ...                 weekly          NaN           NaN   \n",
       "3               NaN     ...                 WEEKLY          NaN           NaN   \n",
       "4            weekly     ...                 weekly          NaN           NaN   \n",
       "\n",
       "  Fall_Day_A Fall_Freq_A Fall_Day_B Fall_Freq_B Accepts_CreditCards  \\\n",
       "0        NaN         NaN        NaN         NaN                True   \n",
       "1        NaN         NaN        NaN         NaN                True   \n",
       "2   Saturday      weekly        NaN         NaN                True   \n",
       "3        NaN         NaN        NaN         NaN                True   \n",
       "4        NaN         NaN        NaN         NaN                True   \n",
       "\n",
       "                                               Items   UpdateTime  \n",
       "0  $ wine_alcohol:N|meat_eggs_seafood:N|prepared_...     2012/4/5  \n",
       "1  $ wine_alcohol:N|meat_eggs_seafood:N|prepared_...  2017 Aug 16  \n",
       "2  $ wine_alcohol:N|meat_eggs_seafood:N|prepared_...    2013/5/19  \n",
       "3  $ wine_alcohol:N|meat_eggs_seafood:N|prepared_...    2015/2/22  \n",
       "4  $ wine_alcohol:N|meat_eggs_seafood:N|prepared_...  2014 Jan 09  \n",
       "\n",
       "[5 rows x 23 columns]"
      ]
     },
     "execution_count": 17,
     "metadata": {},
     "output_type": "execute_result"
    }
   ],
   "source": [
    "# read file w/ pandas data library\n",
    "import pandas \n",
    "df = pandas.read_csv(myfile)\n",
    "df.info()\n",
    "df.head()\n"
   ]
  },
  {
   "cell_type": "code",
   "execution_count": 10,
   "metadata": {},
   "outputs": [
    {
     "data": {
      "text/plain": [
       "FMID                                                            1000999650\n",
       "Market_Name                                             ZZG Farmers Market\n",
       "Address_Street_Number                                      9998 Devon Road\n",
       "Address_City                                                          Zuni\n",
       "Address_State                                                           WV\n",
       "Address_Zip                                                          79938\n",
       "Latitude                                                           48.2295\n",
       "Longitude                                                          -67.472\n",
       "Accepts_CreditCards                                                   True\n",
       "Items                    $ wine_alcohol:Y|meat_eggs_seafood:Y|prepared_...\n",
       "UpdateTime                                                        2017/9/9\n",
       "dtype: object"
      ]
     },
     "execution_count": 10,
     "metadata": {},
     "output_type": "execute_result"
    }
   ],
   "source": [
    "pd.max()"
   ]
  },
  {
   "cell_type": "code",
   "execution_count": null,
   "metadata": {},
   "outputs": [],
   "source": []
  }
 ],
 "metadata": {
  "kernelspec": {
   "display_name": "Python 3",
   "language": "python",
   "name": "python3"
  },
  "language_info": {
   "codemirror_mode": {
    "name": "ipython",
    "version": 3
   },
   "file_extension": ".py",
   "mimetype": "text/x-python",
   "name": "python",
   "nbconvert_exporter": "python",
   "pygments_lexer": "ipython3",
   "version": "3.6.4"
  }
 },
 "nbformat": 4,
 "nbformat_minor": 2
}
